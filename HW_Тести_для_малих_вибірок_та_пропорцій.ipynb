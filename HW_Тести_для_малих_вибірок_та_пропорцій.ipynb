{
 "cells": [
  {
   "cell_type": "markdown",
   "id": "e152f6d6",
   "metadata": {
    "ExecuteTime": {
     "end_time": "2022-12-10T14:29:24.703416Z",
     "start_time": "2022-12-10T14:29:24.688485Z"
    },
    "id": "e152f6d6"
   },
   "source": [
    "# Тести для малих вибірок та пропорцій\n",
    "\n"
   ]
  },
  {
   "cell_type": "markdown",
   "id": "abdcef5d",
   "metadata": {
    "id": "abdcef5d"
   },
   "source": [
    "**Завдання 1**. E-commerce компанія після редизайну сайту підозрює, що **середній час до покупки (time-to-purchase)** користувачів **збільшився**.\n",
    "Історично середній час від першого заходу на сайт до покупки становив $\\mu_0 = 123.7$ хвилин.\n",
    "\n",
    "Команда аналітиків випадково обрала дані **7 покупців після редизайну**:\n",
    "`128, 135, 121, 142, 126, 151, 123`\n",
    "\n",
    "З допомогою наявних даних зʼясуйте, чи збільшився середній час покупки після редизайну.\n",
    "\n",
    "Для цього виконайте наступні 6 кроків. Правильне виконання кожного з кроків оцінюється в 1 бал.\n",
    "\n",
    "1. Запишіть нульову та альтернативну гіпотези і визначте тип тесту.\n",
    "2. Обчисліть вибіркові статистики: $\\bar x$, $s$, $n$.\n",
    "3. Оберіть тип тесту та виконайте його (знайдіть критичне значення тесту, статистику тесту та р-значення) будь-яким пасуючим способом, щоб перевірити гіпотезу на рівні значущості $\\alpha = 0.10$.\n",
    "4. Прийміть рішення, чи відхиляєте ви гіпотезу $H_0$ використовуючи p-value.\n",
    "5. Напишіть висновок: чи справді редизайн сайту подовжив час до покупки?\n",
    "6. Чи зміниться ваше рішення при зміні рівня значущості на $\\alpha = 0.05$.\n"
   ]
  },
  {
   "cell_type": "code",
   "execution_count": null,
   "id": "bbd86ced-8b6e-4c5a-96be-6c0a4fac17cf",
   "metadata": {},
   "outputs": [],
   "source": [
    "# -----1-----\n",
    "H₀: μ = 123.7 (середній час від заходу до покупки залишився таким же)\n",
    "H₁: μ > 123.7 (середній час від заходу до покупки збільшився)\n",
    "Тип тесту: правосторонній (one-tailed)"
   ]
  },
  {
   "cell_type": "code",
   "execution_count": 1,
   "id": "18516952-4a3d-40b5-b0ea-a169aa714880",
   "metadata": {},
   "outputs": [],
   "source": [
    "import numpy as np\n",
    "from scipy import stats\n",
    "\n",
    "av_time = np.array([128, 135, 121, 142, 126, 151, 123])\n",
    "mu0 = 123.7   # середній час до покупки\n",
    "alpha = 0.10"
   ]
  },
  {
   "cell_type": "code",
   "execution_count": 2,
   "id": "4d7593c6-dbf4-4e3b-a6ce-6892ee1e17b7",
   "metadata": {},
   "outputs": [],
   "source": [
    "# -----2-----\n",
    "# обчислення вибіркових статистик\n",
    "\n",
    "x_bar = np.mean(av_time)\n",
    "s = np.std(av_time, ddof=1)   # стандартне відхилення з n-1\n",
    "n = len(av_time)"
   ]
  },
  {
   "cell_type": "code",
   "execution_count": 5,
   "id": "BcS4cm11QYpT",
   "metadata": {
    "id": "BcS4cm11QYpT"
   },
   "outputs": [
    {
     "name": "stdout",
     "output_type": "stream",
     "text": [
      " t = 2.069, p-value = 0.04202, t_cr = 1.440\n"
     ]
    }
   ],
   "source": [
    "# -----3-----\n",
    "# scipy тест\n",
    "res = stats.ttest_1samp(av_time, popmean=mu0, alternative=\"greater\")\n",
    "t_crit = stats.t.ppf(1-alpha, res.df)\n",
    "print(f\" t = {res.statistic:.3f}, p-value = {res.pvalue:.5f}, t_cr = {t_crit:.3f}\")"
   ]
  },
  {
   "cell_type": "code",
   "execution_count": 8,
   "id": "ee5515d9-d065-4c3b-8b6c-9794808f5cf7",
   "metadata": {},
   "outputs": [
    {
     "name": "stdout",
     "output_type": "stream",
     "text": [
      "Відхиляємо H0: середній час до покупки більше 123.7 на рівні значущості 0.1\n"
     ]
    }
   ],
   "source": [
    "# -----4-----\n",
    "# висновок на основі р-значення\n",
    "\n",
    "if res.pvalue < alpha:\n",
    "    print(f\"Відхиляємо H0: середній час до покупки більше 123.7 на рівні значущості {alpha}\")\n",
    "else:\n",
    "    print(\"Не відхиляємо H0: доказів недостатньо\")"
   ]
  },
  {
   "cell_type": "code",
   "execution_count": null,
   "id": "6da4fb05-e6c7-42d7-8052-434c0f967cd2",
   "metadata": {},
   "outputs": [],
   "source": [
    "Чи справді редизайн сайту подовжив час до покупки?\n",
    "Так, на основі отриманих результатів можна зробити висновок, що редизайн сайту справді подовжив час до покупки."
   ]
  },
  {
   "cell_type": "code",
   "execution_count": 9,
   "id": "e72d5d48-6ffb-4b68-8cc6-0567de9af713",
   "metadata": {},
   "outputs": [
    {
     "name": "stdout",
     "output_type": "stream",
     "text": [
      "Відхиляємо H0: середній час до покупки більше 123.7 на рівні значущості 0.05\n"
     ]
    }
   ],
   "source": [
    "# -----6-----\n",
    "# перевірка гіпотез при рівні значущості 0.05\n",
    "\n",
    "a=0.05 \n",
    "if res.pvalue < a:\n",
    "    print(f\"Відхиляємо H0: середній час до покупки більше 123.7 на рівні значущості {a}\")\n",
    "else:\n",
    "    print(\"Не відхиляємо H0: доказів недостатньо\")"
   ]
  },
  {
   "cell_type": "code",
   "execution_count": null,
   "id": "e2755e19-abbd-4465-8cc4-e172900bb988",
   "metadata": {},
   "outputs": [],
   "source": [
    "При зміні рівня значущості на 0.05 рішення відхилити Н0 не змінюється."
   ]
  },
  {
   "cell_type": "markdown",
   "id": "5govLcx8FPSl",
   "metadata": {
    "id": "5govLcx8FPSl"
   },
   "source": [
    "**Завдання 2.**\n",
    "\n",
    "До спеціальної рекламної кампанії **23%** дорослих упізнавали логотип компанії. Після завершення кампанії відділ маркетингу провів опитування: з **1200** випадково відібраних дорослих **311** упізнали логотип.\n",
    "\n",
    "Перевірте на рівні значущості **3%** ($\\alpha=0.03$), чи дають ці дані достатні підстави стверджувати, що **тепер більше ніж 23%** дорослих упізнають логотип компанії. Для розвʼязку використовуйте бібліотеку `statsmodels`.\n",
    "\n",
    "Зробіть висновок, чи зросла впізнаваність логотипу.\n",
    "\n",
    "Додатково, обчисліть довірчий інтревал на заданому рівні значущості і проінтерпретуйте текстом - як він додатково пояснює прийняте нами рішення?"
   ]
  },
  {
   "cell_type": "code",
   "execution_count": 11,
   "id": "rcplRfotId51",
   "metadata": {
    "id": "rcplRfotId51"
   },
   "outputs": [
    {
     "name": "stdout",
     "output_type": "stream",
     "text": [
      "🔹 Тест для однієї пропорції\n",
      "Z-статистика = 2.306\n",
      "p-value = 0.0106\n",
      "97% довірчий інтервал: (0.23171700302179205, 0.28661633031154127)\n"
     ]
    }
   ],
   "source": [
    "import statsmodels.api as sm\n",
    "from statsmodels.stats.proportion import proportions_ztest, proportion_confint\n",
    "\n",
    "count = 311   # кількість \"успіхів\"\n",
    "sample_s = 1200   # обсяг вибірки\n",
    "p0 = 0.23      # гіпотетична пропорція (H0)\n",
    "\n",
    "# z-тест для пропорції\n",
    "stat, pval = proportions_ztest(count, sample_s, p0, alternative='larger')\n",
    "confint = proportion_confint(count, sample_s, alpha=0.03, method='normal')\n",
    "\n",
    "print(\"🔹 Тест для однієї пропорції\")\n",
    "print(f\"Z-статистика = {stat:.3f}\")\n",
    "print(f\"p-value = {pval:.4f}\")\n",
    "print(f\"97% довірчий інтервал: {confint}\")"
   ]
  },
  {
   "cell_type": "code",
   "execution_count": null,
   "id": "2310a40a-d1b4-4ae3-9dfe-981836304d8b",
   "metadata": {},
   "outputs": [],
   "source": [
    "Односторонній тест\n",
    "\n",
    "H0:p=0.23 \n",
    "H1:p>0.\n",
    "Оскільки  p-value=0.0106<0.03 , відхиляємо  H0 . 👉 Є статистично значущі докази, що частка тих, \n",
    "хто впізнає логотип компанії зросла.\n",
    "\n",
    "97% довірчий інтервал (0.2317, 0.2866)\n",
    "\n",
    "Це означає, що з імовірністю 97% справжня частка лежить у межах від 23.17% до 28.66%, що дійсно \n",
    "більше за 23%, тобто є підстави відхилити Н0."
   ]
  }
 ],
 "metadata": {
  "colab": {
   "provenance": []
  },
  "hide_input": false,
  "kernelspec": {
   "display_name": "Python [conda env:base] *",
   "language": "python",
   "name": "conda-base-py"
  },
  "language_info": {
   "codemirror_mode": {
    "name": "ipython",
    "version": 3
   },
   "file_extension": ".py",
   "mimetype": "text/x-python",
   "name": "python",
   "nbconvert_exporter": "python",
   "pygments_lexer": "ipython3",
   "version": "3.12.7"
  },
  "toc": {
   "base_numbering": 1,
   "nav_menu": {},
   "number_sections": true,
   "sideBar": true,
   "skip_h1_title": false,
   "title_cell": "Table of Contents",
   "title_sidebar": "Contents",
   "toc_cell": false,
   "toc_position": {},
   "toc_section_display": true,
   "toc_window_display": false
  },
  "varInspector": {
   "cols": {
    "lenName": 16,
    "lenType": 16,
    "lenVar": 40
   },
   "kernels_config": {
    "python": {
     "delete_cmd_postfix": "",
     "delete_cmd_prefix": "del ",
     "library": "var_list.py",
     "varRefreshCmd": "print(var_dic_list())"
    },
    "r": {
     "delete_cmd_postfix": ") ",
     "delete_cmd_prefix": "rm(",
     "library": "var_list.r",
     "varRefreshCmd": "cat(var_dic_list()) "
    }
   },
   "types_to_exclude": [
    "module",
    "function",
    "builtin_function_or_method",
    "instance",
    "_Feature"
   ],
   "window_display": false
  }
 },
 "nbformat": 4,
 "nbformat_minor": 5
}
