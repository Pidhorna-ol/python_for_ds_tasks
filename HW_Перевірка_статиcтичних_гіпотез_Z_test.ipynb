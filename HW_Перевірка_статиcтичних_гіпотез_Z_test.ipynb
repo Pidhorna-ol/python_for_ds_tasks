{
 "cells": [
  {
   "cell_type": "markdown",
   "id": "e152f6d6",
   "metadata": {
    "ExecuteTime": {
     "end_time": "2022-12-10T14:29:24.703416Z",
     "start_time": "2022-12-10T14:29:24.688485Z"
    },
    "id": "e152f6d6"
   },
   "source": [
    "#Перевірка статиcтичних гіпотез. Z-test.\n",
    "\n"
   ]
  },
  {
   "cell_type": "code",
   "execution_count": 23,
   "id": "be94d7c4-d4bb-42b3-8748-94681f0ad1c7",
   "metadata": {},
   "outputs": [],
   "source": [
    "import numpy as np\n",
    "import pandas as pd\n",
    "import matplotlib.pyplot as plt\n",
    "import seaborn as sns\n",
    "from scipy import stats\n",
    "from statsmodels.stats.weightstats import ztest"
   ]
  },
  {
   "cell_type": "markdown",
   "id": "cd404683",
   "metadata": {
    "id": "cd404683"
   },
   "source": [
    "0. Зчитайте дані з `data.csv` у змінну data, яка має тип pandas.DataFrame. Ми будемо далі працювати з цією змінною."
   ]
  },
  {
   "cell_type": "code",
   "execution_count": 2,
   "id": "b20b6ba2",
   "metadata": {
    "id": "b20b6ba2"
   },
   "outputs": [],
   "source": [
    "data = pd.read_csv('data_z_test.csv')"
   ]
  },
  {
   "cell_type": "markdown",
   "id": "3d06cbbf",
   "metadata": {
    "id": "3d06cbbf"
   },
   "source": [
    "Запустіть код нижче. Для коректної робити всіх подальших методів дані мають бути у вигляді одновимірного `numpy.ndarray` вектора та мати розмірність (100,). Така розмірність означає, що дані - одновимірні (колонка), якщо б розмірність була (100, 1), то дані сприймаються методами як двовимірні (таблиця), хоча для нас виглядати можуть так само."
   ]
  },
  {
   "cell_type": "code",
   "execution_count": 3,
   "id": "cce1632b",
   "metadata": {
    "colab": {
     "base_uri": "https://localhost:8080/"
    },
    "id": "cce1632b",
    "outputId": "2e142439-2a4f-4057-ff9d-e6a4b3d7e955"
   },
   "outputs": [
    {
     "data": {
      "text/plain": [
       "(100,)"
      ]
     },
     "execution_count": 3,
     "metadata": {},
     "output_type": "execute_result"
    }
   ],
   "source": [
    "data = data.data.values\n",
    "data.shape"
   ]
  },
  {
   "cell_type": "markdown",
   "id": "abdcef5d",
   "metadata": {
    "id": "abdcef5d"
   },
   "source": [
    "**Завдання 1**. Зчитані дані - це сума покупок в доларах наших покупців на сайті протягом липня 2025 року.\n",
    "\n",
    "До цього місяця, ми мали продажі в середньому на чек $20.\n",
    "\n",
    "Необхідно зʼясувати, чи вийшло у нас статистично значущо **підвищити** середній чек за липень 2025?\n",
    "\n",
    "Аби дати відповідь - ми проведемо z-test на рівні значущості $\\alpha=0.05$ двома способами. В цьому завданні ми будемо виконувати обчислення \"вручну\" з використанням бібліотек numpy та scipy.stats подібно до прикладу в лекції. Для цього виконайте наступні 7 кроків. Правильне виконання кожного з кроків оцінюється в 1 бал.\n",
    "\n",
    "1. Запишіть параметри задачі у змінні Python:\n",
    "    - `sample_mean` - $\\bar{x}$, середнє значення в вибірці\n",
    "    - `population_mean` - $\\mu_0$, середнє значення в популяції (тобто те, з яким ми порівнюємо середнє вибіркове значення)\n",
    "    - `population_std` - $\\sigma$, вибіркове стандартне відхилення, яке ми вважаємо, що є рівним ст. відх. популяції, адже маємо достатньо велику вибірку.\n",
    "    - `sample_size` - $n$, розмір вибірки\n",
    "    - `alpha` - $\\alpha$ рівень значущості\n",
    "    \n",
    "    **Увага!** Для обчислення стандартного відхилення маємо скористатись функцією `np.std(your_dataframe, ddof=1)`. Чому так - розбираємо в лекції про t-test.\n",
    "\n",
    "\n",
    "2. Визначте для цієї задачі:\n",
    "    - якою є гіпотеза $H_0$\n",
    "    - якою є альтернативна гіпотеза $H_a$\n",
    "    - з яким типом тесту ми маємо справу - лівосторонній, правосторонній чи двосторонній.\n",
    "\n",
    "3. Обчисліть стандартну помилку SE.\n",
    "4. Розрахуйте z-статистику.\n",
    "5. Знайдіть критичне z-значення з допомогою бібліотеки stats.\n",
    "6. Обчисліть p-value з допомогою бібліотеки stats.\n",
    "7. Прийміть рішення, чи відхиляєте ви гіпотезу $H_0$. Для прийняття рішення зробіть і порівняння z-статистики з критичним значенням, і проаналізуйте p-value."
   ]
  },
  {
   "cell_type": "code",
   "execution_count": 11,
   "id": "NX2XezWLdf4t",
   "metadata": {
    "id": "NX2XezWLdf4t"
   },
   "outputs": [],
   "source": [
    "# -----1-----\n",
    "# Задаємо всі відомі параметри\n",
    "sample_mean = data.mean()    \n",
    "population_mean = 20  \n",
    "population_std = np.std(data, ddof=1)  \n",
    "sample_size = 100       \n",
    "alpha = 0.05            "
   ]
  },
  {
   "cell_type": "code",
   "execution_count": 5,
   "id": "9b8589af-833d-4d5b-94f8-a92da6e36019",
   "metadata": {},
   "outputs": [
    {
     "name": "stdout",
     "output_type": "stream",
     "text": [
      "19.37755319670441\n",
      "6.25356123240434\n"
     ]
    }
   ],
   "source": [
    "print(sample_mean)\n",
    "print(population_std)"
   ]
  },
  {
   "cell_type": "code",
   "execution_count": 13,
   "id": "c0b44c71-0a5e-404a-a0e2-aa6fbe7b0b79",
   "metadata": {},
   "outputs": [],
   "source": [
    "# -----2----- \n",
    "# Формулюємо гіпотези\n",
    "Гіпотези\n",
    "\n",
    "H₀: μ = 20 (Продажі в середньому на чек залишились на рівні $20)\n",
    "H₁: μ > 20 (Середнє значення чеку підвищилось)\n",
    "Тип тесту: правосторонній (one-tailed)\n",
    "\n",
    "Чому саме правосторонній тест?\n",
    "\n",
    "Завдання визначити чи змогли ми значуще підвищити середній розмір чеку, \n",
    "тому ми перевіряємо, чи середній розмір чеку вищий, а не просто відрізняється"
   ]
  },
  {
   "cell_type": "code",
   "execution_count": 14,
   "id": "8c01977a-8ed1-4698-9797-7194b305381f",
   "metadata": {},
   "outputs": [
    {
     "name": "stdout",
     "output_type": "stream",
     "text": [
      "SE = 0.625\n",
      "\n",
      "Інтерпретація: В середньому, вибіркове середнє відхиляється\n",
      "від справжнього середнього на ±0.625 доларів\n"
     ]
    }
   ],
   "source": [
    "# -----3----- \n",
    "# Обчислюємо стандартну помилку SE\n",
    "# Формула: SE = σ / √n\n",
    "\n",
    "standard_error = population_std / np.sqrt(sample_size)\n",
    "\n",
    "print(f\"SE = {standard_error:.3f}\")\n",
    "print()\n",
    "print(\"Інтерпретація: В середньому, вибіркове середнє відхиляється\")\n",
    "print(f\"від справжнього середнього на ±{standard_error:.3f} доларів\")"
   ]
  },
  {
   "cell_type": "code",
   "execution_count": 15,
   "id": "3f99a4c8-4c03-4879-916c-67be27387907",
   "metadata": {},
   "outputs": [
    {
     "name": "stdout",
     "output_type": "stream",
     "text": [
      "z = -0.995\n",
      "\n",
      "Інтерпретація:\n",
      "Наше вибіркове середнє відхиляється на 0.995 стандартних\n",
      "помилок від гіпотетичного середнього.\n",
      "\n",
      "Це невелике відхилення (менше 1 стандартної помилки)\n"
     ]
    }
   ],
   "source": [
    "# -----4----- \n",
    "# Розрахунок z-статистики\n",
    "# Формула: z = (x̄ - μ₀) / SE\n",
    "\n",
    "z_statistic = (sample_mean - population_mean) / standard_error\n",
    "\n",
    "print(f\"z = {z_statistic:.3f}\")\n",
    "print()\n",
    "print(\"Інтерпретація:\")\n",
    "print(f\"Наше вибіркове середнє відхиляється на {abs(z_statistic):.3f} стандартних\")\n",
    "print(\"помилок від гіпотетичного середнього.\")\n",
    "print()\n",
    "if z_statistic > 2:\n",
    "    print(\"Це досить велике відхилення. (більше 2 стандартних помилок)\")\n",
    "elif z_statistic > 1:\n",
    "    print(\"Це помірне відхилення (між 1 та 2 стандартними помилками)\")\n",
    "else:\n",
    "    print(\"Це невелике відхилення (менше 1 стандартної помилки)\")"
   ]
  },
  {
   "cell_type": "code",
   "execution_count": null,
   "id": "8c2e34b1-7847-4eed-bb69-42dc355e5c6e",
   "metadata": {},
   "outputs": [],
   "source": [
    "Іншими словами: -0.995 - це майже на одну стандартну помилку нижче нуля, \n",
    "тобто вибірковий результат трохи менший за очікуваний."
   ]
  },
  {
   "cell_type": "code",
   "execution_count": 16,
   "id": "b95b2c25-4246-4c5a-8498-12d9d2a70140",
   "metadata": {},
   "outputs": [
    {
     "name": "stdout",
     "output_type": "stream",
     "text": [
      "Для рівня значущості α = 0.05 (правосторонній тест)\n",
      "Критичне z-значення = 1.645\n",
      "\n",
      "Що це означає?\n",
      "Якщо z-статистика > 1.645, то результат настільки\n",
      "незвичайний, що ми не віримо у випадковість за гіпотезою Н0.\n",
      "Ймовірність отримати z > 1.645 випадково = 5.0%\n"
     ]
    }
   ],
   "source": [
    "# -----5----- \n",
    "# Знаходимо критичне z-значення з допомогою бібліотеки stats\n",
    "\n",
    "z_critical = stats.norm.ppf(1 - alpha)\n",
    "\n",
    "print(f\"Для рівня значущості α = {alpha} (правосторонній тест)\")\n",
    "print(f\"Критичне z-значення = {z_critical:.3f}\")\n",
    "print()\n",
    "print(\"Що це означає?\")\n",
    "print(f\"Якщо z-статистика > {z_critical:.3f}, то результат настільки\")\n",
    "print(\"незвичайний, що ми не віримо у випадковість за гіпотезою Н0.\")\n",
    "print(f\"Ймовірність отримати z > {z_critical:.3f} випадково = {alpha*100}%\")"
   ]
  },
  {
   "cell_type": "code",
   "execution_count": 18,
   "id": "03bb281e-62ec-48f4-8faf-82e683cb5742",
   "metadata": {},
   "outputs": [
    {
     "name": "stdout",
     "output_type": "stream",
     "text": [
      "p-value = 0.840216\n"
     ]
    }
   ],
   "source": [
    "# -----6-----\n",
    "# Обчислюємо p-value з допомогою бібліотеки stats\n",
    "\n",
    "p_value = 1 - stats.norm.cdf(z_statistic)\n",
    "\n",
    "print(f\"p-value = {p_value:.6f}\")"
   ]
  },
  {
   "cell_type": "code",
   "execution_count": 19,
   "id": "449b3c8f-2913-4f09-9f40-94e63163004f",
   "metadata": {},
   "outputs": [
    {
     "name": "stdout",
     "output_type": "stream",
     "text": [
      "============================================================\n",
      "МЕТОД 1: Порівняння z-статистики з критичним значенням\n",
      "============================================================\n",
      "z-статистика = -0.995\n",
      "Критичне значення = 1.645\n",
      "Порівняння: -0.995 ≤ 1.645\n",
      "Висновок: z-статистика НЕ перевищує критичне значення\n",
      "Рішення: НЕ ВІДХИЛЯЄМО H₀\n"
     ]
    }
   ],
   "source": [
    "# -----7-----\n",
    "# Прийняття рішення\n",
    "\n",
    "\n",
    "print(\"=\" * 60)\n",
    "print(\"МЕТОД 1: Порівняння z-статистики з критичним значенням\")\n",
    "print(\"=\" * 60)\n",
    "print(f\"z-статистика = {z_statistic:.3f}\")\n",
    "print(f\"Критичне значення = {z_critical:.3f}\")\n",
    "print(f\"Порівняння: {z_statistic:.3f} {'>' if z_statistic > z_critical else '≤'} {z_critical:.3f}\")\n",
    "\n",
    "if z_statistic > z_critical:\n",
    "    print(\"Висновок: z-статистика ПЕРЕВИЩУЄ критичне значення\")\n",
    "    decision1 = \"ВІДХИЛЯЄМО H₀\"\n",
    "else:\n",
    "    print(\"Висновок: z-статистика НЕ перевищує критичне значення\")\n",
    "    decision1 = \"НЕ ВІДХИЛЯЄМО H₀\"\n",
    "\n",
    "print(f\"Рішення: {decision1}\")"
   ]
  },
  {
   "cell_type": "code",
   "execution_count": 20,
   "id": "eb21a5e2-5ca7-4dce-a480-cc785ed63ac5",
   "metadata": {},
   "outputs": [
    {
     "name": "stdout",
     "output_type": "stream",
     "text": [
      "\n",
      "============================================================\n",
      "МЕТОД 2: Порівняння p-value з рівнем значущості\n",
      "============================================================\n",
      "\n",
      "p-value = 0.840216\n",
      "Рівень значущості α = 0.05\n",
      "Порівняння: 0.840216 ≥ 0.05\n",
      "Висновок: p-value НЕ менше за рівень значущості\n",
      "Рішення: НЕ ВІДХИЛЯЄМО H₀\n"
     ]
    }
   ],
   "source": [
    "print(\"\\n\" + \"=\" * 60)\n",
    "print(\"МЕТОД 2: Порівняння p-value з рівнем значущості\")\n",
    "print(\"=\" * 60)\n",
    "print()\n",
    "print(f\"p-value = {p_value:.6f}\")\n",
    "print(f\"Рівень значущості α = {alpha}\")\n",
    "print(f\"Порівняння: {p_value:.6f} {'<' if p_value < alpha else '≥'} {alpha}\")\n",
    "\n",
    "if p_value < alpha:\n",
    "    print(\"Висновок: p-value МЕНШЕ за рівень значущості\")\n",
    "    decision2 = \"ВІДХИЛЯЄМО H₀\"\n",
    "else:\n",
    "    print(\"Висновок: p-value НЕ менше за рівень значущості\")\n",
    "    decision2 = \"НЕ ВІДХИЛЯЄМО H₀\"\n",
    "\n",
    "print(f\"Рішення: {decision2}\")"
   ]
  },
  {
   "cell_type": "code",
   "execution_count": null,
   "id": "0997e914-1cdf-4084-b3d2-4715447bf184",
   "metadata": {},
   "outputs": [],
   "source": [
    "1. Значення z значно менше за критичне значення тож не відхиляємо H₀. \n",
    "2. Такий результат p-value  означає, що за умови, що нульова гіпотеза (H₀) правильна, імовірність \n",
    "отримати такий або ще більш екстремальний результат становить 84%.\n",
    "84% це дуже велике значення, ми не маємо підстав відхиляти нульову гіпотезу, бо\n",
    "дані чудово узгоджуються з тим, що H₀ може бути правдивою."
   ]
  },
  {
   "cell_type": "markdown",
   "id": "0FOBByRMXkL2",
   "metadata": {
    "id": "0FOBByRMXkL2"
   },
   "source": [
    "**Завдання 2.** Виконайте обчислення z-test з використанням бібліотеки statsmodels.\n",
    "\n",
    "Отримайте z-статистику та р-значення.\n",
    "\n",
    "Виведіть p-значення та зробіть висновок, чи ми маємо достатньо доказів, аби стверджувати, що середній чек зріс.\n",
    "\n",
    "Чи зійшлись значення z-статистику та р-значення в цьому завданні з попередніми обчисленнями?\n",
    "\n",
    "Завдання оцінюється в 3 бали."
   ]
  },
  {
   "cell_type": "code",
   "execution_count": 26,
   "id": "f_Oa0DJhdg6v",
   "metadata": {
    "id": "f_Oa0DJhdg6v"
   },
   "outputs": [
    {
     "name": "stdout",
     "output_type": "stream",
     "text": [
      "Результати z-тесту:\n",
      "  Z-статистика: -0.995\n",
      "  P-value: 0.840216\n",
      "\n",
      "ІНТЕРПРЕТАЦІЯ:\n",
      "----------------------------------------\n",
      "НЕ ВІДХИЛЯЄМО H₀\n",
      "   p-value (0.840216) ≥ α (0.05)\n",
      "   Висновок: Немає достатніх доказів про збільшення середнього чеку\n",
      "\n",
      "============================================================\n",
      "ПОРІВНЯННЯ З РУЧНИМИ РОЗРАХУНКАМИ:\n",
      "============================================================\n",
      "Z-статистика:\n",
      "  Ручний розрахунок: -0.995\n",
      "  Statsmodels:       -0.995\n",
      "  Різниця:           0.000\n",
      "\n",
      "P-value:\n",
      "  Ручний розрахунок: 0.840\n",
      "  Statsmodels:       0.840\n",
      "  Різниця:           0.000\n"
     ]
    }
   ],
   "source": [
    "# Виконуємо правосторонній z-тест\n",
    "z_stat_sm, p_val_sm = ztest(data,         # наші дані\n",
    "                            value=population_mean,  # μ₀ = 20\n",
    "                            alternative='larger')   # H₁: μ > 20\n",
    "\n",
    "print(f\"Результати z-тесту:\")\n",
    "print(f\"  Z-статистика: {z_stat_sm:.3f}\")\n",
    "print(f\"  P-value: {p_val_sm:.6f}\")\n",
    "print()\n",
    "\n",
    "# Інтерпретація результатів\n",
    "print(\"ІНТЕРПРЕТАЦІЯ:\")\n",
    "print(\"-\" * 40)\n",
    "if p_val_sm < alpha:\n",
    "    print(f\"ВІДХИЛЯЄМО H₀\")\n",
    "    print(f\"   p-value ({p_val_sm:.6f}) < α ({alpha})\")\n",
    "    print(\"   Висновок: Середній чек більше 20$\")\n",
    "else:\n",
    "    print(f\"НЕ ВІДХИЛЯЄМО H₀\")\n",
    "    print(f\"   p-value ({p_val_sm:.6f}) ≥ α ({alpha})\")\n",
    "    print(\"   Висновок: Немає достатніх доказів про збільшення середнього чеку\")\n",
    "\n",
    "# Порівняння з ручними розрахунками\n",
    "print(\"\\n\" + \"=\" * 60)\n",
    "print(\"ПОРІВНЯННЯ З РУЧНИМИ РОЗРАХУНКАМИ:\")\n",
    "print(\"=\" * 60)\n",
    "print(f\"Z-статистика:\")\n",
    "print(f\"  Ручний розрахунок: {z_statistic:.3f}\")\n",
    "print(f\"  Statsmodels:       {z_stat_sm:.3f}\")\n",
    "print(f\"  Різниця:           {abs(z_statistic - z_stat_sm):.3f}\")\n",
    "print()\n",
    "print(f\"P-value:\")\n",
    "print(f\"  Ручний розрахунок: {p_value:.3f}\")\n",
    "print(f\"  Statsmodels:       {p_val_sm:.3f}\")\n",
    "print(f\"  Різниця:           {abs(p_value - p_val_sm):.3f}\")"
   ]
  },
  {
   "cell_type": "code",
   "execution_count": null,
   "id": "76cb9483-7569-4a73-aaf1-2a276b054786",
   "metadata": {},
   "outputs": [],
   "source": [
    "Значення z-статистики та р-значення в цьому завданні абсолютно однакові з попередніми обчисленнями"
   ]
  }
 ],
 "metadata": {
  "colab": {
   "provenance": []
  },
  "hide_input": false,
  "kernelspec": {
   "display_name": "Python [conda env:base] *",
   "language": "python",
   "name": "conda-base-py"
  },
  "language_info": {
   "codemirror_mode": {
    "name": "ipython",
    "version": 3
   },
   "file_extension": ".py",
   "mimetype": "text/x-python",
   "name": "python",
   "nbconvert_exporter": "python",
   "pygments_lexer": "ipython3",
   "version": "3.12.7"
  },
  "toc": {
   "base_numbering": 1,
   "nav_menu": {},
   "number_sections": true,
   "sideBar": true,
   "skip_h1_title": false,
   "title_cell": "Table of Contents",
   "title_sidebar": "Contents",
   "toc_cell": false,
   "toc_position": {},
   "toc_section_display": true,
   "toc_window_display": false
  },
  "varInspector": {
   "cols": {
    "lenName": 16,
    "lenType": 16,
    "lenVar": 40
   },
   "kernels_config": {
    "python": {
     "delete_cmd_postfix": "",
     "delete_cmd_prefix": "del ",
     "library": "var_list.py",
     "varRefreshCmd": "print(var_dic_list())"
    },
    "r": {
     "delete_cmd_postfix": ") ",
     "delete_cmd_prefix": "rm(",
     "library": "var_list.r",
     "varRefreshCmd": "cat(var_dic_list()) "
    }
   },
   "types_to_exclude": [
    "module",
    "function",
    "builtin_function_or_method",
    "instance",
    "_Feature"
   ],
   "window_display": false
  }
 },
 "nbformat": 4,
 "nbformat_minor": 5
}
