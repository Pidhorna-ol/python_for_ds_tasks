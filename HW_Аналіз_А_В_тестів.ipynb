{
 "cells": [
  {
   "cell_type": "markdown",
   "metadata": {
    "ExecuteTime": {
     "end_time": "2022-12-10T17:43:42.137588Z",
     "start_time": "2022-12-10T17:43:42.124712Z"
    },
    "id": "f41183ed"
   },
   "source": [
    "## Аналіз A/B-тестів\n",
    "\n",
    "Ви - аналітик даних в ІТ-компанії і до вас надійшла задача проаналізувати дані A/B тесту в популярній [грі Cookie Cats](https://www.facebook.com/cookiecatsgame). Це - гра-головоломка в стилі «з’єднай три», де гравець повинен з’єднати плитки одного кольору, щоб очистити дошку та виграти рівень. На дошці також зображені співаючі котики :)\n",
    "\n",
    "Під час проходження гри гравці стикаються з воротами, які змушують їх чекати деякий час, перш ніж вони зможуть прогресувати або зробити покупку в додатку.\n",
    "\n",
    "У цьому блоці завдань ми проаналізуємо результати A/B тесту, коли перші ворота в Cookie Cats було переміщено з рівня 30 на рівень 40. Зокрема, ми хочемо зрозуміти, як це вплинуло на утримання (retention) гравців. Тобто хочемо зрозуміти, чи переміщення воріт на 10 рівнів пізніше якимось чином вплинуло на те, що користувачі перестають грати в гру раніше чи пізніше з точки зору кількості їх днів з моменту встановлення гри.\n",
    "\n",
    "Будемо працювати з даними з файлу `cookie_cats.csv`. Колонки в даних наступні:\n",
    "\n",
    "- `userid` - унікальний номер, який ідентифікує кожного гравця.\n",
    "- `version` - чи потрапив гравець в контрольну групу (gate_30 - ворота на 30 рівні) чи тестову групу (gate_40 - ворота на 40 рівні).\n",
    "- `sum_gamerounds` - кількість ігрових раундів, зіграних гравцем протягом першого тижня після встановлення\n",
    "- `retention_1` - чи через 1 день після встановлення гравець повернувся і почав грати?\n",
    "- `retention_7` - чи через 7 днів після встановлення гравець повернувся і почав грати?\n",
    "\n",
    "Коли гравець встановлював гру, його випадковим чином призначали до групи gate_30 або gate_40."
   ]
  },
  {
   "cell_type": "markdown",
   "metadata": {
    "id": "XKhHA3eiueo0"
   },
   "source": [
    "1. Для початку, уявімо, що ми тільки плануємо проведення зазначеного А/B-тесту і хочемо зрозуміти, дані про скількох користувачів нам треба зібрати, аби досягнути відчутного ефекту. Відчутним ефектом ми вважатимемо збільшення утримання на 1% після внесення зміни. Обчисліть, скільки користувачів сумарно нам треба аби досягнути такого ефекту, якщо продакт менеджер нам повідомив, що базове утримання є 19%."
   ]
  },
  {
   "cell_type": "code",
   "execution_count": null,
   "metadata": {},
   "outputs": [],
   "source": [
    "Оскільки ми не знаємо, чи вплине перенесення воріт до 40 рівня на утримання гравців,\n",
    "ми виберемо двосторонній тест:\n",
    "\n",
    "H0:p=p0 \n",
    "Ha:p≠p0 \n",
    "\n",
    "де  p  і  p0  позначають коефіцієнт утримання гравців відповідно до наявності воріт на сороковому\n",
    "та тридцятому рівнях."
   ]
  },
  {
   "cell_type": "code",
   "execution_count": 1,
   "metadata": {},
   "outputs": [],
   "source": [
    "import numpy as np\n",
    "import pandas as pd\n",
    "import scipy.stats as stats\n",
    "import statsmodels.stats.api as sms\n",
    "import matplotlib as mpl\n",
    "import matplotlib.pyplot as plt\n",
    "import seaborn as sns\n",
    "from math import ceil\n",
    "\n",
    "%matplotlib inline"
   ]
  },
  {
   "cell_type": "code",
   "execution_count": 2,
   "metadata": {},
   "outputs": [
    {
     "data": {
      "text/plain": [
       "0.025241594409087353"
      ]
     },
     "execution_count": 2,
     "metadata": {},
     "output_type": "execute_result"
    }
   ],
   "source": [
    "effect_size = sms.proportion_effectsize(0.20, 0.19)    # Розрахунок розміру ефекту на основі наших очікуваних показників\n",
    "effect_size"
   ]
  },
  {
   "cell_type": "code",
   "execution_count": 23,
   "metadata": {
    "id": "TcZ32BcIufKU"
   },
   "outputs": [
    {
     "name": "stdout",
     "output_type": "stream",
     "text": [
      "24638\n"
     ]
    }
   ],
   "source": [
    "required_n = sms.NormalIndPower().solve_power(\n",
    "    effect_size,\n",
    "    power=0.8,\n",
    "    alpha=0.05,\n",
    "    ratio=1\n",
    "    )                                                  # Розрахунок необхідного розміру вибірки\n",
    "\n",
    "required_n = ceil(required_n)                          # Округлення до наступного цілого числа\n",
    "\n",
    "print(required_n)"
   ]
  },
  {
   "cell_type": "markdown",
   "metadata": {
    "id": "22f03df4"
   },
   "source": [
    "2. Зчитайте дані АВ тесту у змінну `df` та виведіть середнє значення показника показник `retention_7` (утримання на 7 день) по версіям гри. Сформулюйте гіпотезу: яка версія дає краще утримання через 7 днів після встановлення гри?"
   ]
  },
  {
   "cell_type": "code",
   "execution_count": 24,
   "metadata": {
    "id": "MVzMTs-jh22b"
   },
   "outputs": [
    {
     "data": {
      "text/html": [
       "<div>\n",
       "<style scoped>\n",
       "    .dataframe tbody tr th:only-of-type {\n",
       "        vertical-align: middle;\n",
       "    }\n",
       "\n",
       "    .dataframe tbody tr th {\n",
       "        vertical-align: top;\n",
       "    }\n",
       "\n",
       "    .dataframe thead th {\n",
       "        text-align: right;\n",
       "    }\n",
       "</style>\n",
       "<table border=\"1\" class=\"dataframe\">\n",
       "  <thead>\n",
       "    <tr style=\"text-align: right;\">\n",
       "      <th></th>\n",
       "      <th>userid</th>\n",
       "      <th>version</th>\n",
       "      <th>sum_gamerounds</th>\n",
       "      <th>retention_1</th>\n",
       "      <th>retention_7</th>\n",
       "    </tr>\n",
       "  </thead>\n",
       "  <tbody>\n",
       "    <tr>\n",
       "      <th>0</th>\n",
       "      <td>116</td>\n",
       "      <td>gate_30</td>\n",
       "      <td>3</td>\n",
       "      <td>False</td>\n",
       "      <td>False</td>\n",
       "    </tr>\n",
       "    <tr>\n",
       "      <th>1</th>\n",
       "      <td>337</td>\n",
       "      <td>gate_30</td>\n",
       "      <td>38</td>\n",
       "      <td>True</td>\n",
       "      <td>False</td>\n",
       "    </tr>\n",
       "    <tr>\n",
       "      <th>2</th>\n",
       "      <td>377</td>\n",
       "      <td>gate_40</td>\n",
       "      <td>165</td>\n",
       "      <td>True</td>\n",
       "      <td>False</td>\n",
       "    </tr>\n",
       "    <tr>\n",
       "      <th>3</th>\n",
       "      <td>483</td>\n",
       "      <td>gate_40</td>\n",
       "      <td>1</td>\n",
       "      <td>False</td>\n",
       "      <td>False</td>\n",
       "    </tr>\n",
       "    <tr>\n",
       "      <th>4</th>\n",
       "      <td>488</td>\n",
       "      <td>gate_40</td>\n",
       "      <td>179</td>\n",
       "      <td>True</td>\n",
       "      <td>True</td>\n",
       "    </tr>\n",
       "  </tbody>\n",
       "</table>\n",
       "</div>"
      ],
      "text/plain": [
       "   userid  version  sum_gamerounds  retention_1  retention_7\n",
       "0     116  gate_30               3        False        False\n",
       "1     337  gate_30              38         True        False\n",
       "2     377  gate_40             165         True        False\n",
       "3     483  gate_40               1        False        False\n",
       "4     488  gate_40             179         True         True"
      ]
     },
     "execution_count": 24,
     "metadata": {},
     "output_type": "execute_result"
    }
   ],
   "source": [
    "df = pd.read_csv('cookie_cats.csv')\n",
    "df.head()"
   ]
  },
  {
   "cell_type": "code",
   "execution_count": 6,
   "metadata": {},
   "outputs": [
    {
     "name": "stdout",
     "output_type": "stream",
     "text": [
      "<class 'pandas.core.frame.DataFrame'>\n",
      "RangeIndex: 90189 entries, 0 to 90188\n",
      "Data columns (total 5 columns):\n",
      " #   Column          Non-Null Count  Dtype \n",
      "---  ------          --------------  ----- \n",
      " 0   userid          90189 non-null  int64 \n",
      " 1   version         90189 non-null  object\n",
      " 2   sum_gamerounds  90189 non-null  int64 \n",
      " 3   retention_1     90189 non-null  bool  \n",
      " 4   retention_7     90189 non-null  bool  \n",
      "dtypes: bool(2), int64(2), object(1)\n",
      "memory usage: 2.2+ MB\n"
     ]
    }
   ],
   "source": [
    "df.info()"
   ]
  },
  {
   "cell_type": "code",
   "execution_count": 25,
   "metadata": {},
   "outputs": [
    {
     "name": "stdout",
     "output_type": "stream",
     "text": [
      "Є 0 користувачів, які зустрічаються кілька разів у наборі даних.\n"
     ]
    }
   ],
   "source": [
    "session_counts = df['userid'].value_counts(ascending=False)\n",
    "multi_users = session_counts[session_counts > 1].count()\n",
    "\n",
    "print(f'Є {multi_users} користувачів, які зустрічаються кілька разів у наборі даних.')"
   ]
  },
  {
   "cell_type": "code",
   "execution_count": 26,
   "metadata": {},
   "outputs": [],
   "source": [
    "gate30_sample = df[df['version'] == 'gate_30'].sample(n=required_n, random_state=22)\n",
    "gate40_sample = df[df['version'] == 'gate_40'].sample(n=required_n, random_state=22)\n",
    "\n",
    "ab_test = pd.concat([gate30_sample, gate40_sample], axis=0)\n",
    "ab_test.reset_index(drop=True, inplace=True)"
   ]
  },
  {
   "cell_type": "code",
   "execution_count": 27,
   "metadata": {},
   "outputs": [
    {
     "name": "stdout",
     "output_type": "stream",
     "text": [
      "<class 'pandas.core.frame.DataFrame'>\n",
      "RangeIndex: 49276 entries, 0 to 49275\n",
      "Data columns (total 5 columns):\n",
      " #   Column          Non-Null Count  Dtype \n",
      "---  ------          --------------  ----- \n",
      " 0   userid          49276 non-null  int64 \n",
      " 1   version         49276 non-null  object\n",
      " 2   sum_gamerounds  49276 non-null  int64 \n",
      " 3   retention_1     49276 non-null  bool  \n",
      " 4   retention_7     49276 non-null  bool  \n",
      "dtypes: bool(2), int64(2), object(1)\n",
      "memory usage: 1.2+ MB\n"
     ]
    }
   ],
   "source": [
    "ab_test.info()"
   ]
  },
  {
   "cell_type": "code",
   "execution_count": 28,
   "metadata": {},
   "outputs": [
    {
     "data": {
      "text/html": [
       "<style type=\"text/css\">\n",
       "</style>\n",
       "<table id=\"T_21e0a\">\n",
       "  <thead>\n",
       "    <tr>\n",
       "      <th class=\"blank level0\" >&nbsp;</th>\n",
       "      <th id=\"T_21e0a_level0_col0\" class=\"col_heading level0 col0\" >retention_rate</th>\n",
       "      <th id=\"T_21e0a_level0_col1\" class=\"col_heading level0 col1\" >std_deviation</th>\n",
       "      <th id=\"T_21e0a_level0_col2\" class=\"col_heading level0 col2\" >std_error</th>\n",
       "    </tr>\n",
       "    <tr>\n",
       "      <th class=\"index_name level0\" >version</th>\n",
       "      <th class=\"blank col0\" >&nbsp;</th>\n",
       "      <th class=\"blank col1\" >&nbsp;</th>\n",
       "      <th class=\"blank col2\" >&nbsp;</th>\n",
       "    </tr>\n",
       "  </thead>\n",
       "  <tbody>\n",
       "    <tr>\n",
       "      <th id=\"T_21e0a_level0_row0\" class=\"row_heading level0 row0\" >gate_30</th>\n",
       "      <td id=\"T_21e0a_row0_col0\" class=\"data row0 col0\" >0.18914</td>\n",
       "      <td id=\"T_21e0a_row0_col1\" class=\"data row0 col1\" >0.39163</td>\n",
       "      <td id=\"T_21e0a_row0_col2\" class=\"data row0 col2\" >0.00249</td>\n",
       "    </tr>\n",
       "    <tr>\n",
       "      <th id=\"T_21e0a_level0_row1\" class=\"row_heading level0 row1\" >gate_40</th>\n",
       "      <td id=\"T_21e0a_row1_col0\" class=\"data row1 col0\" >0.17798</td>\n",
       "      <td id=\"T_21e0a_row1_col1\" class=\"data row1 col1\" >0.38250</td>\n",
       "      <td id=\"T_21e0a_row1_col2\" class=\"data row1 col2\" >0.00244</td>\n",
       "    </tr>\n",
       "  </tbody>\n",
       "</table>\n"
      ],
      "text/plain": [
       "<pandas.io.formats.style.Styler at 0x27919df5070>"
      ]
     },
     "execution_count": 28,
     "metadata": {},
     "output_type": "execute_result"
    }
   ],
   "source": [
    "retention_rates = ab_test.groupby('version')['retention_7']\n",
    "retention_rates = retention_rates.agg(['mean', 'std', stats.sem])\n",
    "retention_rates.columns = ['retention_rate', 'std_deviation', 'std_error']\n",
    "\n",
    "\n",
    "retention_rates.style.format('{:.5f}')"
   ]
  },
  {
   "cell_type": "code",
   "execution_count": null,
   "metadata": {},
   "outputs": [],
   "source": [
    "Судячи зі статистики вище,  версія gate_30 дає краще утримання через 7 днів після встановлення \n",
    "гри.\n"
   ]
  },
  {
   "cell_type": "markdown",
   "metadata": {
    "id": "74e9c6ca"
   },
   "source": [
    "3. Перевірте з допомогою пасуючого варіанту z-тесту, чи дає якась з версій гри кращий показник `retention_7` на рівні значущості 0.05. Обчисліть також довірчі інтервали для варіантів до переміщення воріт і після. Виведіть результат у форматі:\n",
    "\n",
    "    ```\n",
    "    z statistic: ...\n",
    "    p-value: ...\n",
    "    Довірчий інтервал 95% для групи control: [..., ...]\n",
    "    Довірчий інтервал 95% для групи treatment: [..., ...]\n",
    "    ```\n",
    "\n",
    "    де замість `...` - обчислені значення.\n",
    "    \n",
    "    В якості висновку дайте відповідь на два питання:  \n",
    "\n",
    "      1. Чи є статистична значущою різниця між поведінкою користувачів у різних версіях гри?   \n",
    "      2. Чи перетинаються довірчі інтервали утримання користувачів з різних версій гри? Про що це каже?  \n"
   ]
  },
  {
   "cell_type": "code",
   "execution_count": 16,
   "metadata": {},
   "outputs": [],
   "source": [
    "from statsmodels.stats.proportion import proportions_ztest, proportion_confint"
   ]
  },
  {
   "cell_type": "code",
   "execution_count": 18,
   "metadata": {},
   "outputs": [],
   "source": [
    "gate_30_results = ab_test[ab_test['version'] == 'gate_30']['retention_7']\n",
    "gate_40_results = ab_test[ab_test['version'] == 'gate_40']['retention_7']"
   ]
  },
  {
   "cell_type": "code",
   "execution_count": 22,
   "metadata": {},
   "outputs": [
    {
     "data": {
      "text/plain": [
       "[3623, 3455]"
      ]
     },
     "execution_count": 22,
     "metadata": {},
     "output_type": "execute_result"
    }
   ],
   "source": [
    "n_30 = gate_30_results.count()\n",
    "n_40 = gate_40_results.count()\n",
    "successes = [gate_30_results.sum(), gate_40_results.sum()]\n",
    "nobs = [n_30, n_40]\n",
    "successes"
   ]
  },
  {
   "cell_type": "code",
   "execution_count": 29,
   "metadata": {},
   "outputs": [
    {
     "name": "stdout",
     "output_type": "stream",
     "text": [
      "z statistic: 2.21\n",
      "p-value: 0.027\n",
      "Довірчий інтервал 95% для групи gate_30: [0.181, 0.192]\n",
      "Довірчий інтервал 95% для групи gate_40: [0.173, 0.183]\n"
     ]
    }
   ],
   "source": [
    "z_stat, pval = proportions_ztest(successes, nobs=nobs) \n",
    "(lower_30, lower_40), (upper_30, upper_40) = proportion_confint(successes, nobs=nobs, alpha=0.05)\n",
    "\n",
    "print(f'z statistic: {z_stat:.2f}')\n",
    "print(f'p-value: {pval:.3f}')\n",
    "print(f'Довірчий інтервал 95% для групи gate_30: [{lower_30:.3f}, {upper_30:.3f}]')\n",
    "print(f'Довірчий інтервал 95% для групи gate_40: [{lower_40:.3f}, {upper_40:.3f}]')\n"
   ]
  },
  {
   "cell_type": "code",
   "execution_count": null,
   "metadata": {
    "id": "kXQE4gyjh5MS"
   },
   "outputs": [],
   "source": [
    "\n",
    "Оскільки наше  p-значення=0.027 нище за наше  α  = 0.05, ми маємо відхилити нульову \n",
    "гіпотезу  H0 , що означає, що перенесення воріт впливає на коефіцієнт утримання (але не в позитивний бік).\n",
    "\n",
    "Також, якщо ми подивимося довірчий інтервал для групи gate_40 ([0,173, 0,183], тобто 17,3-18,3%), \n",
    "ми помітимо, що:\n",
    "\n",
    "він не включає наше базове значення коефіцієнта утримання 19%.\n",
    "Він не включає наше цільове значення в 20% (зростання на 1%, до якого ми прагнули).\n",
    "Це означає, що перенесення воріт погіршило результат. І потрібно або залишити їх на 30му рівні \n",
    "або придумати щось інше."
   ]
  },
  {
   "cell_type": "markdown",
   "metadata": {
    "ExecuteTime": {
     "end_time": "2022-12-10T20:50:10.709766Z",
     "start_time": "2022-12-10T20:50:10.639999Z"
    },
    "id": "076cd867"
   },
   "source": [
    "4. Виконайте тест Хі-квадрат на рівні значущості 5% аби визначити, чи є залежність між версією гри та утриманням гравця на 7ий день після реєстрації.\n",
    "\n",
    "    - Напишіть, як для цього тесту будуть сформульовані гіпотези.\n",
    "    - Проведіть обчислення, виведіть p-значення і напишіть висновок за результатами тесту.\n"
   ]
  },
  {
   "cell_type": "code",
   "execution_count": null,
   "metadata": {},
   "outputs": [],
   "source": [
    "H0:p=p0 перенесення воріт до 40 рівня не вплине на утримання гравців\n",
    "Ha:p≠p0 перенесення воріт до 40 рівня матиме вплив на утримання гравців\n"
   ]
  },
  {
   "cell_type": "code",
   "execution_count": 30,
   "metadata": {
    "id": "kcwD-91Fh84n"
   },
   "outputs": [
    {
     "data": {
      "text/html": [
       "<div>\n",
       "<style scoped>\n",
       "    .dataframe tbody tr th:only-of-type {\n",
       "        vertical-align: middle;\n",
       "    }\n",
       "\n",
       "    .dataframe tbody tr th {\n",
       "        vertical-align: top;\n",
       "    }\n",
       "\n",
       "    .dataframe thead th {\n",
       "        text-align: right;\n",
       "    }\n",
       "</style>\n",
       "<table border=\"1\" class=\"dataframe\">\n",
       "  <thead>\n",
       "    <tr style=\"text-align: right;\">\n",
       "      <th></th>\n",
       "      <th>userid</th>\n",
       "      <th>version</th>\n",
       "      <th>sum_gamerounds</th>\n",
       "      <th>retention_1</th>\n",
       "      <th>retention_7</th>\n",
       "    </tr>\n",
       "  </thead>\n",
       "  <tbody>\n",
       "    <tr>\n",
       "      <th>0</th>\n",
       "      <td>7540471</td>\n",
       "      <td>gate_30</td>\n",
       "      <td>45</td>\n",
       "      <td>True</td>\n",
       "      <td>False</td>\n",
       "    </tr>\n",
       "    <tr>\n",
       "      <th>1</th>\n",
       "      <td>3589138</td>\n",
       "      <td>gate_30</td>\n",
       "      <td>21</td>\n",
       "      <td>True</td>\n",
       "      <td>False</td>\n",
       "    </tr>\n",
       "    <tr>\n",
       "      <th>2</th>\n",
       "      <td>3177668</td>\n",
       "      <td>gate_30</td>\n",
       "      <td>14</td>\n",
       "      <td>True</td>\n",
       "      <td>False</td>\n",
       "    </tr>\n",
       "    <tr>\n",
       "      <th>3</th>\n",
       "      <td>2133884</td>\n",
       "      <td>gate_30</td>\n",
       "      <td>26</td>\n",
       "      <td>False</td>\n",
       "      <td>False</td>\n",
       "    </tr>\n",
       "    <tr>\n",
       "      <th>4</th>\n",
       "      <td>492763</td>\n",
       "      <td>gate_30</td>\n",
       "      <td>39</td>\n",
       "      <td>True</td>\n",
       "      <td>True</td>\n",
       "    </tr>\n",
       "  </tbody>\n",
       "</table>\n",
       "</div>"
      ],
      "text/plain": [
       "    userid  version  sum_gamerounds  retention_1  retention_7\n",
       "0  7540471  gate_30              45         True        False\n",
       "1  3589138  gate_30              21         True        False\n",
       "2  3177668  gate_30              14         True        False\n",
       "3  2133884  gate_30              26        False        False\n",
       "4   492763  gate_30              39         True         True"
      ]
     },
     "execution_count": 30,
     "metadata": {},
     "output_type": "execute_result"
    }
   ],
   "source": [
    "import scipy.stats as stats\n",
    "\n",
    "ab_test.head()"
   ]
  },
  {
   "cell_type": "code",
   "execution_count": 31,
   "metadata": {},
   "outputs": [
    {
     "data": {
      "text/html": [
       "<div>\n",
       "<style scoped>\n",
       "    .dataframe tbody tr th:only-of-type {\n",
       "        vertical-align: middle;\n",
       "    }\n",
       "\n",
       "    .dataframe tbody tr th {\n",
       "        vertical-align: top;\n",
       "    }\n",
       "\n",
       "    .dataframe thead th {\n",
       "        text-align: right;\n",
       "    }\n",
       "</style>\n",
       "<table border=\"1\" class=\"dataframe\">\n",
       "  <thead>\n",
       "    <tr style=\"text-align: right;\">\n",
       "      <th>retention_7</th>\n",
       "      <th>False</th>\n",
       "      <th>True</th>\n",
       "    </tr>\n",
       "    <tr>\n",
       "      <th>version</th>\n",
       "      <th></th>\n",
       "      <th></th>\n",
       "    </tr>\n",
       "  </thead>\n",
       "  <tbody>\n",
       "    <tr>\n",
       "      <th>gate_30</th>\n",
       "      <td>19978</td>\n",
       "      <td>4660</td>\n",
       "    </tr>\n",
       "    <tr>\n",
       "      <th>gate_40</th>\n",
       "      <td>20253</td>\n",
       "      <td>4385</td>\n",
       "    </tr>\n",
       "  </tbody>\n",
       "</table>\n",
       "</div>"
      ],
      "text/plain": [
       "retention_7  False  True \n",
       "version                  \n",
       "gate_30      19978   4660\n",
       "gate_40      20253   4385"
      ]
     },
     "execution_count": 31,
     "metadata": {},
     "output_type": "execute_result"
    }
   ],
   "source": [
    "pd.crosstab(ab_test['version'], ab_test['retention_7'])"
   ]
  },
  {
   "cell_type": "code",
   "execution_count": 32,
   "metadata": {},
   "outputs": [],
   "source": [
    "crosstab = pd.crosstab(ab_test['version'], ab_test['retention_7'])"
   ]
  },
  {
   "cell_type": "code",
   "execution_count": 33,
   "metadata": {},
   "outputs": [
    {
     "name": "stdout",
     "output_type": "stream",
     "text": [
      "χ² = 10.166\n",
      "p-value = 0.00143\n",
      "Ступені свободи = 1\n",
      "Очікувані частоти:\n",
      " [[20115.5  4522.5]\n",
      " [20115.5  4522.5]]\n"
     ]
    }
   ],
   "source": [
    "chi2, p, dof, expected = stats.chi2_contingency(crosstab)\n",
    "\n",
    "print(f\"χ² = {chi2:.3f}\")\n",
    "print(f\"p-value = {p:.5f}\")\n",
    "print(f\"Ступені свободи = {dof}\")\n",
    "print(\"Очікувані частоти:\\n\", expected)"
   ]
  },
  {
   "cell_type": "code",
   "execution_count": null,
   "metadata": {},
   "outputs": [],
   "source": [
    " p-значення=0.00143 нище за наше  α  = 0.05, ми маємо відхилити нульову \n",
    "гіпотезу  H0 , що означає, що перенесення воріт впливає на коефіцієнт утримання"
   ]
  }
 ],
 "metadata": {
  "colab": {
   "provenance": []
  },
  "kernelspec": {
   "display_name": "Python [conda env:base] *",
   "language": "python",
   "name": "conda-base-py"
  },
  "language_info": {
   "codemirror_mode": {
    "name": "ipython",
    "version": 3
   },
   "file_extension": ".py",
   "mimetype": "text/x-python",
   "name": "python",
   "nbconvert_exporter": "python",
   "pygments_lexer": "ipython3",
   "version": "3.12.7"
  }
 },
 "nbformat": 4,
 "nbformat_minor": 4
}
